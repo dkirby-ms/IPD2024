{
 "cells": [
  {
   "cell_type": "markdown",
   "metadata": {},
   "source": [
    "# Microsoft Ignite 2024 - Industry pre-day workshop\n",
    "\n",
    "## Welcome and exposition\n",
    "Welcome, actors and actresses to the stage for the Microsoft Ignite Industry Pre-Day 2024 Company's production of \"Agora - The Play\".\n",
    "\n",
    "![Agora](./images/columns.png)\n",
    "\n",
    "## Setting\n",
    "\n",
    "Contoso Grocers is a major player in the food retail industry, with a long history of providing quality products and services to its customers. However, with the rise of e-commerce and changing consumer preferences, the company faces increasing competition and the need to adapt to new market trends.\n",
    "\n",
    "Contoso Grocers' CEO, Tonia Montoya, has been pushing the company to incorporate more advanced AI capabilities into their business operations. You have been brought in to help design a new AI-powered digital platform that will allow Contoso Grocers to compete more effectively in the modern marketplace across their retail sales and production operations. In particular, the CEO has expressed a desire to use more intelligent computer vision and automation to improve the efficiency of their production and distribution operations.\n",
    "\n",
    "### The environment\n",
    "\n",
    "Contoso Grocers maintains stores in US and Europe, with a total of 100 stores. The company operates a large warehouse and production facility in Ohio, USA, with a second production facility in the Netherlands. The company has adopted a hybrid cloud strategy, with a focus on Azure for their public cloud infrastructure while also maintaining small datacenters in both Ohio and the Netherlands. \n",
    "\n",
    "\n"
   ]
  },
  {
   "cell_type": "code",
   "execution_count": 1,
   "metadata": {},
   "outputs": [
    {
     "data": {
      "text/plain": [
       "True"
      ]
     },
     "execution_count": 1,
     "metadata": {},
     "output_type": "execute_result"
    }
   ],
   "source": [
    "## Login to the Azure portal to review the current environment\n",
    "import webbrowser\n",
    "url = \"https://portal.azure.com\"\n",
    "webbrowser.open(url)"
   ]
  }
 ],
 "metadata": {
  "kernelspec": {
   "display_name": "Python 3",
   "language": "python",
   "name": "python3"
  },
  "language_info": {
   "codemirror_mode": {
    "name": "ipython",
    "version": 3
   },
   "file_extension": ".py",
   "mimetype": "text/x-python",
   "name": "python",
   "nbconvert_exporter": "python",
   "pygments_lexer": "ipython3",
   "version": "3.11.10"
  }
 },
 "nbformat": 4,
 "nbformat_minor": 2
}
