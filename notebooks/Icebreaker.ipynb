{
 "cells": [
  {
   "cell_type": "markdown",
   "metadata": {},
   "source": [
    "## Welcome to \"PREL18: Explore next-gen industrial transformation architecture patterns\" lab\n",
    "\n",
    "**Run the below cell to get started!**\n",
    "\n",
    "👇👇👇👇👇👇👇👇"
   ]
  },
  {
   "cell_type": "code",
   "execution_count": null,
   "metadata": {},
   "outputs": [],
   "source": [
    "###################\n",
    "#Initialization\n",
    "###################\n",
    "import requests\n",
    "player_user_name= input(\"Type your name: \")\n",
    "addUserEndpoint=\"https://jsleaderboard001-cnece0effvapgbft.westus2-01.azurewebsites.net/add_user\"\n",
    "addPointsEndpoint=\"https://jsleaderboard001-cnece0effvapgbft.westus2-01.azurewebsites.net/add_points\"\n",
    "response = requests.post(addUserEndpoint,json={\"id\": player_user_name.replace(\" \", \"\"), \"name\": player_user_name})\n",
    "## ******Needs pip install Pillow matplotlib\n",
    "from PIL import Image, ImageDraw, ImageFont\n",
    "import matplotlib.pyplot as plt\n",
    "def add_text_to_image(image_path, text, font_size=48):\n",
    "    img = Image.open(image_path)\n",
    "    img_copy = img.copy()\n",
    "    draw = ImageDraw.Draw(img_copy)\n",
    "    try:\n",
    "        font = ImageFont.truetype(\"arial.ttf\", font_size)\n",
    "    except:\n",
    "        font = ImageFont.load_default()\n",
    "    text_width = draw.textlength(text, font=font)\n",
    "    text_position = ((img.width - text_width) // 2, 50)  # You can adjust the Y position (50)\n",
    "    draw.text((text_position[0]+2, text_position[1]+2), text, font=font, fill='black')\n",
    "    draw.text(text_position, text, font=font, fill='black')\n",
    "    return img_copy\n",
    "image_path = '../media/image/controlCenter.png'\n",
    "text = f\"Welcome {player_user_name} to your new office!\"\n",
    "modified_image = add_text_to_image(image_path, text)\n",
    "plt.figure(figsize=(100, 10))\n",
    "plt.subplot(1, 2, 2)\n",
    "plt.imshow(modified_image)\n",
    "plt.axis('off')\n",
    "plt.show()"
   ]
  },
  {
   "cell_type": "markdown",
   "metadata": {},
   "source": [
    "## Lab experience\n",
    "\n",
    "### Module 1 - Computer Vision\n",
    "\n",
    "### Module 2 - Industrial OT (Operational Technology)\n",
    "\n",
    "### Module 3 - Scale and operate"
   ]
  }
 ],
 "metadata": {
  "kernelspec": {
   "display_name": ".venv",
   "language": "python",
   "name": "python3"
  },
  "language_info": {
   "codemirror_mode": {
    "name": "ipython",
    "version": 3
   },
   "file_extension": ".py",
   "mimetype": "text/x-python",
   "name": "python",
   "nbconvert_exporter": "python",
   "pygments_lexer": "ipython3",
   "version": "3.11.10"
  }
 },
 "nbformat": 4,
 "nbformat_minor": 2
}
