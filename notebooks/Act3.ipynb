{
 "cells": [
  {
   "cell_type": "markdown",
   "metadata": {},
   "source": [
    "# Microsoft Ignite 2024 - Industry pre-day workshop\n",
    "\n",
    "## Act 3 - Scale\n",
    "\n",
    "### Setting and scene\n"
   ]
  },
  {
   "cell_type": "markdown",
   "metadata": {},
   "source": [
    "### The environment\n",
    "\n",
    "Contoso Grocers maintains stores in US and Europe, with a total of 100 stores. The company operates a large warehouse and production facility in Ohio, USA, with a second production facility in the Netherlands. The company has adopted a hybrid cloud strategy, with a focus on Azure for their public cloud infrastructure while also maintaining small datacenters in both Ohio and the Netherlands. \n",
    "\n"
   ]
  }
 ],
 "metadata": {
  "language_info": {
   "name": "python"
  }
 },
 "nbformat": 4,
 "nbformat_minor": 2
}
