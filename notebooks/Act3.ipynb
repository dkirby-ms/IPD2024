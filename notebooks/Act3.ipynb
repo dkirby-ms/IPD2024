{
 "cells": [
  {
   "cell_type": "markdown",
   "metadata": {},
   "source": [
    "# Microsoft Ignite 2024 - Industry pre-day workshop\n",
    "\n",
    "## Act 3 - Scale\n",
    "\n",
    "### Setting and scene\n"
   ]
  }
 ],
 "metadata": {
  "language_info": {
   "name": "python"
  }
 },
 "nbformat": 4,
 "nbformat_minor": 2
}
