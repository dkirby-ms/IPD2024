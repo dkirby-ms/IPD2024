{
 "cells": [
  {
   "cell_type": "markdown",
   "metadata": {},
   "source": [
    "# Microsoft Ignite 2024 - Industry pre-day workshop\n",
    "\n",
    "## Act 2 - Operationalize it\n",
    "\n",
    "### Setting and scene\n"
   ]
  }
 ],
 "metadata": {
  "language_info": {
   "name": "python"
  }
 },
 "nbformat": 4,
 "nbformat_minor": 2
}
