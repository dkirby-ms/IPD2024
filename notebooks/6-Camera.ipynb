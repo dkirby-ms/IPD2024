{
 "cells": [
  {
   "cell_type": "code",
   "execution_count": null,
   "metadata": {},
   "outputs": [],
   "source": [
    "%pip -q install ultralytics opencv-python pyyaml onvif-zeep"
   ]
  },
  {
   "cell_type": "markdown",
   "metadata": {},
   "source": [
    "## Fun with cameras and AI"
   ]
  },
  {
   "cell_type": "code",
   "execution_count": null,
   "metadata": {},
   "outputs": [],
   "source": [
    "import os, requests, base64\n",
    "from pprint import pprint\n",
    "import cv2\n",
    "from onvif import ONVIFCamera\n",
    "\n",
    "def get_rtsp_url_from_onvif(host, port, user, passwd):\n",
    "    camera = ONVIFCamera(host, port, user, passwd)\n",
    "    media_service = camera.create_media_service()\n",
    "    profiles = media_service.GetProfiles()\n",
    "    token = profiles[0].token\n",
    "    stream_uri = media_service.GetStreamUri({'StreamSetup': {'Stream': 'RTP-Unicast', 'Transport': 'RTSP'}, 'ProfileToken': token})\n",
    "    return stream_uri.Uri\n",
    "\n",
    "def view_rtsp_feed(rtsp_url):\n",
    "    cap = cv2.VideoCapture(rtsp_url)\n",
    "    \n",
    "    if not cap.isOpened():\n",
    "        print(\"Error: Could not open RTSP stream.\")\n",
    "        return\n",
    "    \n",
    "    while True:\n",
    "        ret, frame = cap.read()\n",
    "        if not ret:\n",
    "            print(\"Error: Failed to retrieve frame.\")\n",
    "            break\n",
    "        \n",
    "        cv2.imshow('RTSP Feed', frame)\n",
    "        \n",
    "        if cv2.waitKey(1) & 0xFF == ord('q'):\n",
    "            break\n",
    "    \n",
    "    cap.release()\n",
    "    cv2.destroyAllWindows()\n",
    "\n",
    "# Call the AI service API\n",
    "def call_api(uri, key, payload):\n",
    "    headers = {\n",
    "        \"Content-Type\": \"application/json\",\n",
    "        \"api-key\": key,\n",
    "    }\n",
    "    # Send request\n",
    "    try:\n",
    "        response = requests.post(uri, headers=headers, json=payload)\n",
    "        response.raise_for_status()  # Will raise an HTTPError if the HTTP request returned an unsuccessful status code\n",
    "    except requests.RequestException as e:\n",
    "        raise SystemExit(f\"Failed to make the request. Error: {e}\")\n",
    "\n",
    "    # Handle the response as needed (e.g., print or process)\n",
    "    response_json = response.json()\n",
    "    return response_json\n",
    "\n",
    "# Convert an image to base64 encoding\n",
    "def image_to_base64(image_path_or_url):\n",
    "    if image_path_or_url.startswith('http://') or image_path_or_url.startswith('https://'):\n",
    "        response = requests.get(image_path_or_url)\n",
    "        image_data = response.content\n",
    "    else:\n",
    "        with open(image_path_or_url, \"rb\") as image_file:\n",
    "            image_data = image_file.read()\n",
    "    return base64.b64encode(image_data).decode('utf-8')\n",
    "\n"
   ]
  },
  {
   "cell_type": "code",
   "execution_count": null,
   "metadata": {},
   "outputs": [],
   "source": [
    "# Example usage\n",
    "host = \"192.168.2.245\"\n",
    "port = 80\n",
    "user = \"admin\"\n",
    "passwd = \"\""
   ]
  },
  {
   "cell_type": "code",
   "execution_count": null,
   "metadata": {},
   "outputs": [],
   "source": [
    "rtsp_url = get_rtsp_url_from_onvif(host, port, user, passwd)\n",
    "view_rtsp_feed(rtsp_url)"
   ]
  }
 ],
 "metadata": {
  "kernelspec": {
   "display_name": ".venv",
   "language": "python",
   "name": "python3"
  },
  "language_info": {
   "codemirror_mode": {
    "name": "ipython",
    "version": 3
   },
   "file_extension": ".py",
   "mimetype": "text/x-python",
   "name": "python",
   "nbconvert_exporter": "python",
   "pygments_lexer": "ipython3",
   "version": "3.12.7"
  }
 },
 "nbformat": 4,
 "nbformat_minor": 2
}
