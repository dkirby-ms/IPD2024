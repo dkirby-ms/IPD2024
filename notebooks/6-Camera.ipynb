{
 "cells": [
  {
   "cell_type": "code",
   "execution_count": null,
   "metadata": {},
   "outputs": [],
   "source": [
    "%pip -q install ultralytics opencv-python pyyaml onvif-zeep"
   ]
  },
  {
   "cell_type": "markdown",
   "metadata": {},
   "source": [
    "## Fun with cameras and AI\n",
    "\n",
    "Now we can use real camera feeds over [RTSP] to perform inference tasks. \n",
    "\n",
    "First let's define some helper functions. We can use [ONVIF](https://en.wikipedia.org/wiki/ONVIF) to get the specific RTSP endpoint for a given camera."
   ]
  },
  {
   "cell_type": "code",
   "execution_count": null,
   "metadata": {},
   "outputs": [],
   "source": [
    "import os, requests, base64\n",
    "from pprint import pprint\n",
    "import cv2, yaml\n",
    "from onvif import ONVIFCamera\n",
    "from ultralytics import YOLO\n",
    "\n",
    "model = YOLO('yolov8n.pt')  # You can use 'yolov8s.pt', 'yolov8m.pt', etc. for different model sizes\n",
    "\n",
    "# This code loads the class names from the COCO dataset yaml file. \n",
    "def load_class_names(yaml_file):\n",
    "    with open(yaml_file, 'rb') as f:\n",
    "        data = yaml.safe_load(f)\n",
    "    return data['names']\n",
    "\n",
    "class_names = load_class_names('../artifacts/coco.yaml')  # Adjust the path to your .names file\n",
    "\n",
    "\n",
    "def get_rtsp_url_from_onvif(host, port, user, passwd):\n",
    "    camera = ONVIFCamera(host, port, user, passwd)\n",
    "    media_service = camera.create_media_service()\n",
    "    profiles = media_service.GetProfiles()\n",
    "    token = profiles[0].token\n",
    "    stream_uri = media_service.GetStreamUri({'StreamSetup': {'Stream': 'RTP-Unicast', 'Transport': 'RTSP'}, 'ProfileToken': token})\n",
    "    return stream_uri.Uri\n",
    "\n",
    "def view_rtsp_feed(rtsp_url):\n",
    "    cap = cv2.VideoCapture(rtsp_url)\n",
    "    \n",
    "    if not cap.isOpened():\n",
    "        print(\"Error: Could not open RTSP stream.\")\n",
    "        return\n",
    "    \n",
    "    while True:\n",
    "        ret, frame = cap.read()\n",
    "        if not ret:\n",
    "            print(\"Error: Failed to retrieve frame.\")\n",
    "            break\n",
    "        \n",
    "        cv2.imshow('RTSP Feed', frame)\n",
    "        \n",
    "        if cv2.waitKey(1) & 0xFF == ord('q'):\n",
    "            break\n",
    "    \n",
    "    cap.release()\n",
    "    cv2.destroyAllWindows()\n",
    "\n",
    "def view_rtsp_feed_with_inference(rtsp_url):\n",
    "    cap = cv2.VideoCapture(rtsp_url)\n",
    "    \n",
    "    if not cap.isOpened():\n",
    "        print(\"Error: Could not open RTSP stream.\")\n",
    "        return\n",
    "    \n",
    "    while True:\n",
    "        ret, frame = cap.read()\n",
    "        if not ret:\n",
    "            print(\"Error: Failed to retrieve frame.\")\n",
    "            break\n",
    "\n",
    "        # Perform detection\n",
    "        results = model(frame)\n",
    "\n",
    "        # Draw bounding boxes on the frame\n",
    "        for result in results:\n",
    "            for box in result.boxes:\n",
    "                class_id = int(box.cls[0])\n",
    "                x1, y1, x2, y2 = map(int, box.xyxy[0])\n",
    "                confidence = box.conf[0]\n",
    "                label = f'{class_names[class_id]} {confidence:.2f}'\n",
    "                cv2.rectangle(frame, (x1, y1), (x2, y2), (0, 255, 0), 2)\n",
    "                cv2.putText(frame, label, (x1, y1 - 10), cv2.FONT_HERSHEY_SIMPLEX, 0.5, (0, 255, 0), 2)\n",
    "        \n",
    "        cv2.imshow('RTSP Feed', frame)\n",
    "        \n",
    "        if cv2.waitKey(1) & 0xFF == ord('q'):\n",
    "            break\n",
    "    \n",
    "    cap.release()\n",
    "    cv2.destroyAllWindows()\n",
    "\n",
    "# Convert an image to base64 encoding\n",
    "def image_to_base64(image_path_or_url):\n",
    "    if image_path_or_url.startswith('http://') or image_path_or_url.startswith('https://'):\n",
    "        response = requests.get(image_path_or_url)\n",
    "        image_data = response.content\n",
    "    else:\n",
    "        with open(image_path_or_url, \"rb\") as image_file:\n",
    "            image_data = image_file.read()\n",
    "    return base64.b64encode(image_data).decode('utf-8')"
   ]
  },
  {
   "cell_type": "markdown",
   "metadata": {},
   "source": [
    "## Connect to a camera\n",
    "\n",
    "Connect to a real camera by providing a host address and credential in the code below, then run the cell. The lab speakers will provide the credentials for the camera endpoint."
   ]
  },
  {
   "cell_type": "code",
   "execution_count": null,
   "metadata": {},
   "outputs": [],
   "source": [
    "# Example usage\n",
    "host = \"192.168.2.245\"\n",
    "port = 80\n",
    "user = \"IgniteUser\"\n",
    "passwd = \"Password123!!\"\n",
    "\n",
    "rtsp_url = get_rtsp_url_from_onvif(host, port, user, passwd)\n",
    "view_rtsp_feed(rtsp_url)"
   ]
  },
  {
   "cell_type": "markdown",
   "metadata": {},
   "source": [
    "### Run an object detection job with the camera\n",
    "\n",
    "Run the next cell to perform real-time object detection using the camera. Press Q to close the window."
   ]
  },
  {
   "cell_type": "code",
   "execution_count": null,
   "metadata": {},
   "outputs": [],
   "source": [
    "view_rtsp_feed_with_inference(rtsp_url)"
   ]
  }
 ],
 "metadata": {
  "kernelspec": {
   "display_name": ".venv",
   "language": "python",
   "name": "python3"
  },
  "language_info": {
   "codemirror_mode": {
    "name": "ipython",
    "version": 3
   },
   "file_extension": ".py",
   "mimetype": "text/x-python",
   "name": "python",
   "nbconvert_exporter": "python",
   "pygments_lexer": "ipython3",
   "version": "3.12.7"
  }
 },
 "nbformat": 4,
 "nbformat_minor": 2
}
