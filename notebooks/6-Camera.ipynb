{
 "cells": [
  {
   "cell_type": "code",
   "execution_count": null,
   "metadata": {},
   "outputs": [],
   "source": [
    "%pip -q install ultralytics opencv-python pyyaml onvif-zeep"
   ]
  },
  {
   "cell_type": "markdown",
   "metadata": {},
   "source": [
    "## Fun with cameras and AI\n",
    "\n",
    "Now we can use real camera feeds over [RTSP](https://en.wikipedia.org/wiki/Real-Time_Streaming_Protocol) to perform inference tasks. \n",
    "\n",
    "First let's define some helper functions. We can use [ONVIF](https://en.wikipedia.org/wiki/ONVIF) to get the specific RTSP endpoint for a given camera. This allows us to lookup the RTSP endpoint using only the host address."
   ]
  },
  {
   "cell_type": "code",
   "execution_count": null,
   "metadata": {},
   "outputs": [],
   "source": [
    "import os, requests, base64\n",
    "from pprint import pprint\n",
    "import cv2, yaml\n",
    "from onvif import ONVIFCamera\n",
    "from ultralytics import YOLO\n",
    "\n",
    "model = YOLO('yolov8n.pt')  # You can use 'yolov8s.pt', 'yolov8m.pt', etc. for different model sizes\n",
    "\n",
    "# This code loads the class names from the COCO dataset yaml file. \n",
    "def load_class_names(yaml_file):\n",
    "    with open(yaml_file, 'rb') as f:\n",
    "        data = yaml.safe_load(f)\n",
    "    return data['names']\n",
    "\n",
    "class_names = load_class_names('../artifacts/coco.yaml')  # Adjust the path to your .names file\n",
    "\n",
    "def get_rtsp_url_from_onvif(host, port, user, passwd):\n",
    "    camera = ONVIFCamera(host, port, user, passwd)\n",
    "    media_service = camera.create_media_service()\n",
    "    profiles = media_service.GetProfiles()\n",
    "    token = profiles[0].token\n",
    "    stream_uri = media_service.GetStreamUri({'StreamSetup': {'Stream': 'RTP-Unicast', 'Transport': 'RTSP'}, 'ProfileToken': token})\n",
    "    return stream_uri.Uri\n",
    "\n",
    "def view_rtsp_feed(rtsp_url):\n",
    "    cap = cv2.VideoCapture(rtsp_url)\n",
    "    \n",
    "    if not cap.isOpened():\n",
    "        print(\"Error: Could not open RTSP stream.\")\n",
    "        return\n",
    "    \n",
    "    while True:\n",
    "        ret, frame = cap.read()\n",
    "        if not ret:\n",
    "            print(\"Error: Failed to retrieve frame.\")\n",
    "            break\n",
    "        \n",
    "        \n",
    "        cv2.imshow('RTSP Feed', frame)\n",
    "        \n",
    "        if cv2.waitKey(1) & 0xFF == ord('q'):\n",
    "            break\n",
    "    \n",
    "    cap.release()\n",
    "    cv2.destroyAllWindows()\n",
    "\n",
    "def view_rtsp_feed_with_inference(rtsp_url):\n",
    "    cap = cv2.VideoCapture(rtsp_url)\n",
    "    \n",
    "    if not cap.isOpened():\n",
    "        print(\"Error: Could not open RTSP stream.\")\n",
    "        return\n",
    "    \n",
    "    while True:\n",
    "        ret, frame = cap.read()\n",
    "        if not ret:\n",
    "            print(\"Error: Failed to retrieve frame.\")\n",
    "            break\n",
    "\n",
    "        # Perform detection\n",
    "        results = model(frame)\n",
    "\n",
    "        # Draw bounding boxes on the frame\n",
    "        for result in results:\n",
    "            for box in result.boxes:\n",
    "                class_id = int(box.cls[0])\n",
    "                x1, y1, x2, y2 = map(int, box.xyxy[0])\n",
    "                confidence = box.conf[0]\n",
    "                label = f'{class_names[class_id]} {confidence:.2f}'\n",
    "                cv2.rectangle(frame, (x1, y1), (x2, y2), (0, 255, 0), 2)\n",
    "                cv2.putText(frame, label, (x1, y1 - 10), cv2.FONT_HERSHEY_SIMPLEX, 0.5, (0, 255, 0), 2)\n",
    "        \n",
    "        cv2.imshow('RTSP Feed', frame)  \n",
    "        if cv2.waitKey(1) & 0xFF == ord('q'):\n",
    "            break\n",
    "    \n",
    "    cap.release()\n",
    "    cv2.destroyAllWindows()\n",
    "\n",
    "def capture_image_from_rtsp(rtsp_url, save_path=\"../video_frames/camera\"):\n",
    "    if not os.path.exists(save_path):\n",
    "        os.makedirs(save_path)\n",
    "    \n",
    "    cap = cv2.VideoCapture(rtsp_url)\n",
    "    \n",
    "    if not cap.isOpened():\n",
    "        print(\"Error: Could not open RTSP stream.\")\n",
    "        return None\n",
    "    \n",
    "    ret, frame = cap.read()\n",
    "    if not ret:\n",
    "        print(\"Error: Failed to retrieve frame.\")\n",
    "        cap.release()\n",
    "        return None\n",
    "    \n",
    "    image_path = os.path.join(save_path, \"capture.jpg\")\n",
    "    cv2.imwrite(image_path, frame)\n",
    "    \n",
    "    cap.release()\n",
    "    return image_path\n",
    "\n",
    "# Convert an image to base64 encoding\n",
    "def image_to_base64(image_path_or_url):\n",
    "    if image_path_or_url.startswith('http://') or image_path_or_url.startswith('https://'):\n",
    "        response = requests.get(image_path_or_url)\n",
    "        image_data = response.content\n",
    "    else:\n",
    "        with open(image_path_or_url, \"rb\") as image_file:\n",
    "            image_data = image_file.read()\n",
    "    return base64.b64encode(image_data).decode('utf-8')\n",
    "\n",
    "# Call the AI service API\n",
    "def call_api(uri, key, payload):\n",
    "    headers = {\n",
    "        \"Content-Type\": \"application/json\",\n",
    "        \"api-key\": key,\n",
    "    }\n",
    "    # Send request\n",
    "    try:\n",
    "        response = requests.post(uri, headers=headers, json=payload)\n",
    "        response.raise_for_status()  # Will raise an HTTPError if the HTTP request returned an unsuccessful status code\n",
    "    except requests.RequestException as e:\n",
    "        raise SystemExit(f\"Failed to make the request. Error: {e}\")\n",
    "\n",
    "    # Handle the response as needed (e.g., print or process)\n",
    "    response_json = response.json()\n",
    "    return response_json\n"
   ]
  },
  {
   "cell_type": "markdown",
   "metadata": {},
   "source": [
    "## Connect to a camera\n",
    "\n",
    "Connect to a real camera by providing a host address and credential in the code below, then run the cell. The lab speakers will provide the credentials for the camera endpoint."
   ]
  },
  {
   "cell_type": "code",
   "execution_count": null,
   "metadata": {},
   "outputs": [],
   "source": [
    "# Example usage\n",
    "host = \"CAMERA_IP\"\n",
    "port = 80\n",
    "user = \"IgniteUser\"\n",
    "passwd = \"Password123!!\"\n",
    "\n",
    "rtsp_url = get_rtsp_url_from_onvif(host, port, user, passwd)\n",
    "view_rtsp_feed(rtsp_url)"
   ]
  },
  {
   "cell_type": "markdown",
   "metadata": {},
   "source": [
    "### Run an object detection job with the camera\n",
    "\n",
    "Run the next cell to perform real-time object detection using the camera. Press Q to close the window."
   ]
  },
  {
   "cell_type": "code",
   "execution_count": null,
   "metadata": {},
   "outputs": [],
   "source": [
    "view_rtsp_feed_with_inference(rtsp_url) # press q to close the window"
   ]
  },
  {
   "cell_type": "markdown",
   "metadata": {},
   "source": [
    "### Take picture and send to GPT4o\n",
    "Replace the Azure AI service parameters below using the same ones you used for the [previous notebook](./5-AzureAIGPT4o.ipynb) and initialize the model using a prompt."
   ]
  },
  {
   "cell_type": "code",
   "execution_count": null,
   "metadata": {},
   "outputs": [],
   "source": [
    "# Replace these values with the correct values from your Azure AI service\n",
    "azureAiServiceName = \"replace_me_with_service_name\" # 1 - Service name\n",
    "serviceUri = \"replace_me_with_uri\" # 2 - endpoint\n",
    "API_KEY = \"replace_me_with_key\" # 3 - API Key\n",
    "ENDPOINT = f\"{serviceUri}openai/deployments/{azureAiServiceName}-gpt-4o-mini-deployment/chat/completions?api-version=2024-08-01-preview\"\n",
    "\n",
    "# Payload for the request\n",
    "payload = {\n",
    "  \"messages\": [\n",
    "    {\n",
    "      \"role\": \"system\",\n",
    "      \"content\": [\n",
    "        {\n",
    "          \"type\": \"text\",\n",
    "          \"text\": \"You are an AI assistant that describes pictures.\"\n",
    "        }\n",
    "      ]\n",
    "    }\n",
    "  ],\n",
    "  \"temperature\": 0.7,\n",
    "  \"top_p\": 0.95,\n",
    "  \"max_tokens\": 800\n",
    "}"
   ]
  },
  {
   "cell_type": "markdown",
   "metadata": {},
   "source": [
    "### Send live snapshot to your helpful Azure AI assistant for a description.\n",
    "\n",
    "Hint: You can retake the picture by simply re-running the [take a picture](#take-a-picture) cell."
   ]
  },
  {
   "cell_type": "code",
   "execution_count": null,
   "metadata": {},
   "outputs": [],
   "source": [
    "image_base64 = image_to_base64(capture_image_from_rtsp(rtsp_url))\n",
    "payload = {\n",
    "  \"messages\": [\n",
    "    { \"role\": \"system\", \"content\": \"You are a helpful assistant.\" }, # provide context for the model to generate a response\n",
    "        { \"role\": \"user\", \"content\": [  \n",
    "            { \n",
    "                \"type\": \"text\", \n",
    "                \"text\": \"How many people are working on computers in this picture? Describe any persons you identify.\"  # tell the model what to do\n",
    "            },\n",
    "            { \n",
    "                \"type\": \"image_url\",\n",
    "                \"image_url\": {\n",
    "                    \"url\": \"data:image/png;base64,\" + image_base64 # send the base64 encoded image with the payload\n",
    "                }\n",
    "            }\n",
    "        ] } \n",
    "  ],\n",
    "  \"temperature\": 0.7,\n",
    "  \"top_p\": 0.95,\n",
    "  \"max_tokens\": 800\n",
    "}\n",
    "\n",
    "pprint(call_api(ENDPOINT, API_KEY, payload), width=150)"
   ]
  },
  {
   "cell_type": "markdown",
   "metadata": {},
   "source": [
    "## Complete Lab\n",
    "Run the following cell to complete this lab!"
   ]
  },
  {
   "cell_type": "code",
   "execution_count": null,
   "metadata": {},
   "outputs": [],
   "source": [
    "%store -r userId\n",
    "import requests;print(requests.post(\"https://jsleaderboard001-cnece0effvapgbft.westus2-01.azurewebsites.net/complete_task\", headers={\"Content-Type\": \"application/json\"}, json={\"user_id\": userId, \"task_id\": 6}).json())"
   ]
  }
 ],
 "metadata": {
  "kernelspec": {
   "display_name": ".venv",
   "language": "python",
   "name": "python3"
  },
  "language_info": {
   "codemirror_mode": {
    "name": "ipython",
    "version": 3
   },
   "file_extension": ".py",
   "mimetype": "text/x-python",
   "name": "python",
   "nbconvert_exporter": "python",
   "pygments_lexer": "ipython3",
   "version": "3.12.7"
  }
 },
 "nbformat": 4,
 "nbformat_minor": 2
}
