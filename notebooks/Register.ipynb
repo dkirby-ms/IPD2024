{
 "cells": [
  {
   "cell_type": "markdown",
   "metadata": {},
   "source": [
    "## Welcome to \"PREL18: Explore next-gen industrial transformation architecture patterns\" lab\n",
    "\n",
    "**Run the below cell to get started!**\n",
    "\n",
    "👇👇👇👇👇👇👇👇"
   ]
  },
  {
   "cell_type": "code",
   "execution_count": 3,
   "metadata": {},
   "outputs": [
    {
     "name": "stdout",
     "output_type": "stream",
     "text": [
      "Collecting requests\n",
      "  Using cached requests-2.32.3-py3-none-any.whl.metadata (4.6 kB)\n",
      "Collecting charset-normalizer<4,>=2 (from requests)\n",
      "  Using cached charset_normalizer-3.4.0-cp311-cp311-manylinux_2_17_x86_64.manylinux2014_x86_64.whl.metadata (34 kB)\n",
      "Collecting idna<4,>=2.5 (from requests)\n",
      "  Using cached idna-3.10-py3-none-any.whl.metadata (10 kB)\n",
      "Collecting urllib3<3,>=1.21.1 (from requests)\n",
      "  Using cached urllib3-2.2.3-py3-none-any.whl.metadata (6.5 kB)\n",
      "Collecting certifi>=2017.4.17 (from requests)\n",
      "  Using cached certifi-2024.8.30-py3-none-any.whl.metadata (2.2 kB)\n",
      "Using cached requests-2.32.3-py3-none-any.whl (64 kB)\n",
      "Using cached certifi-2024.8.30-py3-none-any.whl (167 kB)\n",
      "Using cached charset_normalizer-3.4.0-cp311-cp311-manylinux_2_17_x86_64.manylinux2014_x86_64.whl (142 kB)\n",
      "Using cached idna-3.10-py3-none-any.whl (70 kB)\n",
      "Using cached urllib3-2.2.3-py3-none-any.whl (126 kB)\n",
      "Installing collected packages: urllib3, idna, charset-normalizer, certifi, requests\n",
      "Successfully installed certifi-2024.8.30 charset-normalizer-3.4.0 idna-3.10 requests-2.32.3 urllib3-2.2.3\n",
      "Note: you may need to restart the kernel to use updated packages.\n"
     ]
    }
   ],
   "source": [
    "%pip install requests"
   ]
  },
  {
   "cell_type": "markdown",
   "metadata": {},
   "source": [
    "## Your first task is simple\n",
    "\n",
    "Store your username in the player_user_name variable then Run the cell.\n"
   ]
  },
  {
   "cell_type": "code",
   "execution_count": 4,
   "metadata": {},
   "outputs": [
    {
     "name": "stdout",
     "output_type": "stream",
     "text": [
      "Hello REPLACE_ME_OR_ELSE! Welcome to Microsoft Ignite. You're a day early!\n"
     ]
    }
   ],
   "source": [
    "# Get registered\n",
    "import requests\n",
    "\n",
    "player_user_name=(\"REPLACE_ME_OR_ELSE\")\n",
    "print(f\"Hello {player_user_name}! Welcome to Microsoft Ignite. You're a day early!\")\n",
    "response = requests.post(\"https://jsleaderboard001-cnece0effvapgbft.westus2-01.azurewebsites.net/add_user\",json={\"id\": player_user_name.replace(\" \", \"\"), \"name\": player_user_name})\n",
    "\n"
   ]
  },
  {
   "cell_type": "markdown",
   "metadata": {},
   "source": [
    "## Jupyter notebooks in this lab\n",
    "\n",
    "Click on the first notebook below to get started.\n",
    "\n",
    "### Notebook 1 - Computer Vision\n",
    "[Open the notebook](./ComputerVision.ipynb)\n",
    "\n",
    "### Notebook 2 - Counting objects\n",
    "[Open the notebook](./countingWithDifferentClassesAndVideos.ipynb)\n",
    "\n",
    "### Module 3 - Scale and operate\n",
    "[Open the notebook](./Cameras.ipynb)"
   ]
  }
 ],
 "metadata": {
  "kernelspec": {
   "display_name": ".venv",
   "language": "python",
   "name": "python3"
  },
  "language_info": {
   "codemirror_mode": {
    "name": "ipython",
    "version": 3
   },
   "file_extension": ".py",
   "mimetype": "text/x-python",
   "name": "python",
   "nbconvert_exporter": "python",
   "pygments_lexer": "ipython3",
   "version": "3.11.10"
  }
 },
 "nbformat": 4,
 "nbformat_minor": 2
}
