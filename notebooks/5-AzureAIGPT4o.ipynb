{
 "cells": [
  {
   "cell_type": "code",
   "execution_count": null,
   "metadata": {},
   "outputs": [],
   "source": [
    "%pip -q install opencv-python pyyaml"
   ]
  },
  {
   "cell_type": "markdown",
   "metadata": {},
   "source": [
    "### **Azure AI Services**\n",
    "\n",
    "Login to Azure using the Azure portal and retrieve your service endpoint and key.\n",
    "\n",
    "- Open Microsoft Edge using the desktop shortcut and open Azure portal using the bookmark.\n",
    "\n",
    "- Login using the Azure credentials in the Resources tab of the lab guide.\n",
    "\n",
    "- Inside Azure portal, search for Azure AI Services and select it.\n",
    "\n",
    "    ![A screenshot showing Azure AI services being searched for in the dropdown](../labguide/img/azureportal_ai_search.png)\n",
    "\n",
    "- Note the name of the Azure AI service that was precreated for you and then click on the resource.\n",
    "\n",
    "    ![A screenshot showing an Azure AI service inside a resource group in Azure portal](../labguide/img/azure_ai_service.png)\n",
    "\n",
    "- You will need the AI service name, language endpoint and one of the key values for the Azure AI Service. You will need these values in the next cell. Review the screenshot and locate these values in your Azure environment, then replace the placeholders in the next cell with your values.\n",
    "\n",
    "    1. Service name\n",
    "    2. Key (pick either key 1 or key 2)\n",
    "    3. Language endpoint\n",
    "\n",
    "    ![A screenshot showing an Azure AI service overview page in Azure portal](../labguide/img/ai_endpoint_key.png)\n",
    "\n"
   ]
  },
  {
   "cell_type": "markdown",
   "metadata": {},
   "source": [
    "### Send a prompt to initialize the model\n",
    "\n",
    "Replace the placeholders in the code block below endpoint and key you retrieved."
   ]
  },
  {
   "cell_type": "code",
   "execution_count": null,
   "metadata": {},
   "outputs": [],
   "source": [
    "# Replace these values with the correct values from your Azure AI service\n",
    "azureAiServiceName = \"REPLACE ME WITH YOUR AZURE AI SERVICE NAME\" # 1 - Service name\n",
    "endpoint = \"\"                                                     # 2 - endpoint\n",
    "key = \"REPLACE ME WITH YOUR AZURE AI SERVICE KEY\"                 # 3 - API Key\n",
    "\n",
    "import os\n",
    "import requests\n",
    "import base64\n",
    "from pprint import pprint\n",
    "\n",
    "IMAGE_PATH=\"../media/image/people_on_street.jpg\"\n",
    "ENDPOINT = f\"https://{endpoint}openai/deployments/{azureAiServiceName}-gpt-4o-mini-deployment/chat/completions?api-version=2024-08-01-preview\"\n",
    "API_KEY = key\n",
    "\n",
    "encoded_image = base64.b64encode(open(IMAGE_PATH, 'rb').read()).decode('ascii')\n",
    "headers = {\n",
    "    \"Content-Type\": \"application/json\",\n",
    "    \"api-key\": API_KEY,\n",
    "}\n",
    "\n",
    "# Payload for the request\n",
    "payload = {\n",
    "  \"messages\": [\n",
    "    {\n",
    "      \"role\": \"system\",\n",
    "      \"content\": [\n",
    "        {\n",
    "          \"type\": \"text\",\n",
    "          \"text\": \"You are an AI assistant that helps people find information.\"\n",
    "        }\n",
    "      ]\n",
    "    }\n",
    "  ],\n",
    "  \"temperature\": 0.7,\n",
    "  \"top_p\": 0.95,\n",
    "  \"max_tokens\": 800\n",
    "}\n",
    "\n",
    "\n",
    "# Send request\n",
    "try:\n",
    "    response = requests.post(ENDPOINT, headers=headers, json=payload)\n",
    "    response.raise_for_status()  # Will raise an HTTPError if the HTTP request returned an unsuccessful status code\n",
    "except requests.RequestException as e:\n",
    "    raise SystemExit(f\"Failed to make the request. Error: {e}\")\n",
    "\n",
    "# Handle the response as needed (e.g., print or process)\n",
    "response_json = response.json()\n",
    "pprint(response_json)"
   ]
  },
  {
   "cell_type": "markdown",
   "metadata": {},
   "source": [
    "### Describe an image with a prompt\n",
    "\n",
    "To send an image with our prompt we will convert it to base64 and include it in the payload of our API call."
   ]
  },
  {
   "cell_type": "code",
   "execution_count": null,
   "metadata": {},
   "outputs": [],
   "source": [
    "import json\n",
    "from pprint import pprint\n",
    "\n",
    "def image_to_base64(image_path):\n",
    "    with open(image_path, \"rb\") as image_file:\n",
    "        return base64.b64encode(image_file.read()).decode('utf-8')\n",
    "\n",
    "\n",
    "IMAGE_PATH = \"../media/image/columns.png\"\n",
    "image_base64 = image_to_base64(IMAGE_PATH)\n",
    "payload = {\n",
    "  \"messages\": [\n",
    "    { \"role\": \"system\", \"content\": \"You are a helpful assistant.\" },\n",
    "        { \"role\": \"user\", \"content\": [  \n",
    "            { \n",
    "                \"type\": \"text\", \n",
    "                \"text\": \"Describe this picture:\" \n",
    "            },\n",
    "            { \n",
    "                \"type\": \"image_url\",\n",
    "                \"image_url\": {\n",
    "                    \"url\": \"data:image/png;base64,\" + image_base64\n",
    "                }\n",
    "            }\n",
    "        ] } \n",
    "  ],\n",
    "  \"temperature\": 0.7,\n",
    "  \"top_p\": 0.95,\n",
    "  \"max_tokens\": 800\n",
    "}\n",
    "\n",
    "response = requests.post(ENDPOINT, headers=headers, json=payload)\n",
    "response_json = response.json()\n",
    "\n",
    "# Pretty print the JSON response\n",
    "pprint(response_json)"
   ]
  }
 ],
 "metadata": {
  "kernelspec": {
   "display_name": ".venv",
   "language": "python",
   "name": "python3"
  },
  "language_info": {
   "codemirror_mode": {
    "name": "ipython",
    "version": 3
   },
   "file_extension": ".py",
   "mimetype": "text/x-python",
   "name": "python",
   "nbconvert_exporter": "python",
   "pygments_lexer": "ipython3",
   "version": "3.12.7"
  }
 },
 "nbformat": 4,
 "nbformat_minor": 2
}
